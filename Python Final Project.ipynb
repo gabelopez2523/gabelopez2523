{
 "cells": [
  {
   "cell_type": "markdown",
   "metadata": {},
   "source": [
    "> Title: *An Analysis of Pulgarcito Mini Market* <br>\n",
    "> Author: *Gabriel Lopez* <br>\n",
    "> Date: *INFO 3440 Winter Quarter 2021* <br>"
   ]
  },
  {
   "cell_type": "markdown",
   "metadata": {},
   "source": [
    "# Table of Contents<a id=\"Top\"></a>\n",
    "\n",
    "1. [Problem Statement](#1)<br>\n",
    "2. [Data](#2) <br>\n",
    "    2.1 [Data Source](#2.1)<br>\n",
    "    2.2 [Another Section](#2.2)<br>\n",
    "3. [Model Definition](#3)<br>\n",
    "4. [Model Solution](#4)<br>\n",
    "5. [Sensitivity Analysis](#5)<br>\n",
    "6. [Conclusions](#6)<br>\n",
    "    6.1 [Tactical Information](#6.1)<br>\n",
    "    6.2 [Strategic Information](#6.2)<br>\n",
    "7. [Model Limitations, Future Improvements and Challenges](#7) <br>"
   ]
  },
  {
   "cell_type": "markdown",
   "metadata": {},
   "source": [
    "# 1. Problem Statement<a id=1></a>"
   ]
  },
  {
   "cell_type": "markdown",
   "metadata": {},
   "source": [
    "The Pulgarcito is a local Latin American mini market located in Santa Fe, NM. The owner sells a variety of products but wants to focus on some of his more popular products to maximize profits. There are fixed shipping costs associated with each product if it is to be chosen. In addition, each product has a Revenue that it produces per box, and an associated cost per box. The overall problem will be measured in boxes of each product, since the owner purchases products in bulk. Lastly, there are certain logical constraints that must be followed as well, such as the minimum requirement of at least one frozen product."
   ]
  },
  {
   "cell_type": "markdown",
   "metadata": {},
   "source": [
    "##### [Back to Top](#Top)"
   ]
  },
  {
   "cell_type": "markdown",
   "metadata": {},
   "source": [
    "# 2. Data<a id=2></a>"
   ]
  },
  {
   "cell_type": "code",
   "execution_count": 6,
   "metadata": {},
   "outputs": [],
   "source": [
    "#import necessary python packages\n",
    "import pandas as pd #ver 1.1.3\n",
    "import pyomo.environ as pe #ver 5.7\n",
    "import matplotlib.pyplot as plt #ver 3.3.2\n",
    "%matplotlib inline "
   ]
  },
  {
   "cell_type": "code",
   "execution_count": 7,
   "metadata": {},
   "outputs": [],
   "source": [
    "from IPython.display import Markdown, display\n",
    "def printmd(string):\n",
    "    display(Markdown(string))"
   ]
  },
  {
   "cell_type": "markdown",
   "metadata": {},
   "source": [
    "## 2.1 Data Source<a id=2.1></a>"
   ]
  },
  {
   "cell_type": "code",
   "execution_count": 8,
   "metadata": {},
   "outputs": [],
   "source": [
    "import os\n",
    "os.getcwdb()\n",
    "\n",
    "os.chdir('C:\\\\Users\\\\Gabriel Lopez\\\\OneDrive - University of Denver\\\\Documents\\\\University of Denver Work\\\\Winter Quarter 2021\\\\INFO 3440')"
   ]
  },
  {
   "cell_type": "code",
   "execution_count": 9,
   "metadata": {},
   "outputs": [
    {
     "data": {
      "text/html": [
       "<div>\n",
       "<style scoped>\n",
       "    .dataframe tbody tr th:only-of-type {\n",
       "        vertical-align: middle;\n",
       "    }\n",
       "\n",
       "    .dataframe tbody tr th {\n",
       "        vertical-align: top;\n",
       "    }\n",
       "\n",
       "    .dataframe thead th {\n",
       "        text-align: right;\n",
       "    }\n",
       "</style>\n",
       "<table border=\"1\" class=\"dataframe\">\n",
       "  <thead>\n",
       "    <tr style=\"text-align: right;\">\n",
       "      <th></th>\n",
       "      <th>Measured in Boxes</th>\n",
       "      <th>P1</th>\n",
       "      <th>P2</th>\n",
       "      <th>P3</th>\n",
       "      <th>P4</th>\n",
       "      <th>P5</th>\n",
       "      <th>P6</th>\n",
       "    </tr>\n",
       "  </thead>\n",
       "  <tbody>\n",
       "    <tr>\n",
       "      <th>0</th>\n",
       "      <td>NaN</td>\n",
       "      <td>Plantain Leaves</td>\n",
       "      <td>Frozem Yuca</td>\n",
       "      <td>Pacaya</td>\n",
       "      <td>Frozen Pupusas</td>\n",
       "      <td>Nance</td>\n",
       "      <td>Masa De Tamales</td>\n",
       "    </tr>\n",
       "    <tr>\n",
       "      <th>1</th>\n",
       "      <td>Shipping Cost</td>\n",
       "      <td>150</td>\n",
       "      <td>180</td>\n",
       "      <td>190</td>\n",
       "      <td>145</td>\n",
       "      <td>175</td>\n",
       "      <td>165</td>\n",
       "    </tr>\n",
       "    <tr>\n",
       "      <th>2</th>\n",
       "      <td>Sell Price</td>\n",
       "      <td>80</td>\n",
       "      <td>95</td>\n",
       "      <td>100</td>\n",
       "      <td>85</td>\n",
       "      <td>75</td>\n",
       "      <td>115</td>\n",
       "    </tr>\n",
       "    <tr>\n",
       "      <th>3</th>\n",
       "      <td>Cost Per Unit</td>\n",
       "      <td>45</td>\n",
       "      <td>65</td>\n",
       "      <td>80</td>\n",
       "      <td>55</td>\n",
       "      <td>60</td>\n",
       "      <td>90</td>\n",
       "    </tr>\n",
       "    <tr>\n",
       "      <th>4</th>\n",
       "      <td>Max Expense For Each Product</td>\n",
       "      <td>1000</td>\n",
       "      <td>900</td>\n",
       "      <td>1000</td>\n",
       "      <td>850</td>\n",
       "      <td>750</td>\n",
       "      <td>1100</td>\n",
       "    </tr>\n",
       "    <tr>\n",
       "      <th>5</th>\n",
       "      <td>Min Unit Requirements</td>\n",
       "      <td>50</td>\n",
       "      <td>55</td>\n",
       "      <td>60</td>\n",
       "      <td>55</td>\n",
       "      <td>70</td>\n",
       "      <td>65</td>\n",
       "    </tr>\n",
       "  </tbody>\n",
       "</table>\n",
       "</div>"
      ],
      "text/plain": [
       "              Measured in Boxes                P1            P2      P3  \\\n",
       "0                            NaN  Plantain Leaves  Frozem Yuca   Pacaya   \n",
       "1                Shipping Cost                150           180     190   \n",
       "2                    Sell Price                80            95     100   \n",
       "3                 Cost Per Unit                45            65      80   \n",
       "4  Max Expense For Each Product              1000           900    1000   \n",
       "5          Min Unit Requirements               50            55      60   \n",
       "\n",
       "                P4     P5               P6  \n",
       "0  Frozen Pupusas   Nance  Masa De Tamales  \n",
       "1              145    175              165  \n",
       "2               85     75              115  \n",
       "3               55     60               90  \n",
       "4              850    750             1100  \n",
       "5               55     70               65  "
      ]
     },
     "execution_count": 9,
     "metadata": {},
     "output_type": "execute_result"
    }
   ],
   "source": [
    "# Read in raw data from excel file. \n",
    "raw_data = pd.read_excel('Python Project Data.xlsx', sheet_name='Data')\n",
    "raw_data"
   ]
  },
  {
   "cell_type": "markdown",
   "metadata": {},
   "source": [
    "## 2.2 Create Dataframe for Revenue, Shipping Cost, and Price/Unit<a id=2.2></a>"
   ]
  },
  {
   "cell_type": "code",
   "execution_count": 10,
   "metadata": {},
   "outputs": [
    {
     "data": {
      "text/html": [
       "<div>\n",
       "<style scoped>\n",
       "    .dataframe tbody tr th:only-of-type {\n",
       "        vertical-align: middle;\n",
       "    }\n",
       "\n",
       "    .dataframe tbody tr th {\n",
       "        vertical-align: top;\n",
       "    }\n",
       "\n",
       "    .dataframe thead th {\n",
       "        text-align: right;\n",
       "    }\n",
       "</style>\n",
       "<table border=\"1\" class=\"dataframe\">\n",
       "  <thead>\n",
       "    <tr style=\"text-align: right;\">\n",
       "      <th></th>\n",
       "      <th>Plantain Leaves</th>\n",
       "      <th>Frozen Yuca</th>\n",
       "      <th>Pacaya</th>\n",
       "      <th>Frozen Pupusas</th>\n",
       "      <th>Nance</th>\n",
       "      <th>Masa De Tamales</th>\n",
       "    </tr>\n",
       "  </thead>\n",
       "  <tbody>\n",
       "    <tr>\n",
       "      <th>Shipping Cost</th>\n",
       "      <td>150</td>\n",
       "      <td>180</td>\n",
       "      <td>190</td>\n",
       "      <td>145</td>\n",
       "      <td>175</td>\n",
       "      <td>165</td>\n",
       "    </tr>\n",
       "    <tr>\n",
       "      <th>Revenue</th>\n",
       "      <td>80</td>\n",
       "      <td>95</td>\n",
       "      <td>100</td>\n",
       "      <td>85</td>\n",
       "      <td>75</td>\n",
       "      <td>115</td>\n",
       "    </tr>\n",
       "    <tr>\n",
       "      <th>Cost Per Unit</th>\n",
       "      <td>45</td>\n",
       "      <td>65</td>\n",
       "      <td>80</td>\n",
       "      <td>55</td>\n",
       "      <td>60</td>\n",
       "      <td>90</td>\n",
       "    </tr>\n",
       "  </tbody>\n",
       "</table>\n",
       "</div>"
      ],
      "text/plain": [
       "              Plantain Leaves Frozen Yuca Pacaya Frozen Pupusas Nance  \\\n",
       "Shipping Cost             150         180    190            145   175   \n",
       "Revenue                    80          95    100             85    75   \n",
       "Cost Per Unit              45          65     80             55    60   \n",
       "\n",
       "              Masa De Tamales  \n",
       "Shipping Cost             165  \n",
       "Revenue                   115  \n",
       "Cost Per Unit              90  "
      ]
     },
     "execution_count": 10,
     "metadata": {},
     "output_type": "execute_result"
    }
   ],
   "source": [
    "DV_indexes = ['Plantain Leaves','Frozen Yuca','Pacaya','Frozen Pupusas','Nance','Masa De Tamales']\n",
    "coef = raw_data.iloc[[1,2,3],[1,2,3,4,5,6]]\n",
    "coef.index=['Shipping Cost','Revenue','Cost Per Unit']\n",
    "coef.columns=DV_indexes\n",
    "coef"
   ]
  },
  {
   "cell_type": "code",
   "execution_count": 11,
   "metadata": {},
   "outputs": [
    {
     "data": {
      "text/html": [
       "<div>\n",
       "<style scoped>\n",
       "    .dataframe tbody tr th:only-of-type {\n",
       "        vertical-align: middle;\n",
       "    }\n",
       "\n",
       "    .dataframe tbody tr th {\n",
       "        vertical-align: top;\n",
       "    }\n",
       "\n",
       "    .dataframe thead th {\n",
       "        text-align: right;\n",
       "    }\n",
       "</style>\n",
       "<table border=\"1\" class=\"dataframe\">\n",
       "  <thead>\n",
       "    <tr style=\"text-align: right;\">\n",
       "      <th></th>\n",
       "      <th>Plantain Leaves</th>\n",
       "      <th>Frozen Yuca</th>\n",
       "      <th>Pacaya</th>\n",
       "      <th>Frozen Pupusas</th>\n",
       "      <th>Nance</th>\n",
       "      <th>Masa De Tamales</th>\n",
       "    </tr>\n",
       "  </thead>\n",
       "  <tbody>\n",
       "    <tr>\n",
       "      <th>Max Expense</th>\n",
       "      <td>1000</td>\n",
       "      <td>900</td>\n",
       "      <td>1000</td>\n",
       "      <td>850</td>\n",
       "      <td>750</td>\n",
       "      <td>1100</td>\n",
       "    </tr>\n",
       "    <tr>\n",
       "      <th>Max Capacity</th>\n",
       "      <td>50</td>\n",
       "      <td>55</td>\n",
       "      <td>60</td>\n",
       "      <td>55</td>\n",
       "      <td>70</td>\n",
       "      <td>65</td>\n",
       "    </tr>\n",
       "  </tbody>\n",
       "</table>\n",
       "</div>"
      ],
      "text/plain": [
       "             Plantain Leaves Frozen Yuca Pacaya Frozen Pupusas Nance  \\\n",
       "Max Expense             1000         900   1000            850   750   \n",
       "Max Capacity              50          55     60             55    70   \n",
       "\n",
       "             Masa De Tamales  \n",
       "Max Expense             1100  \n",
       "Max Capacity              65  "
      ]
     },
     "execution_count": 11,
     "metadata": {},
     "output_type": "execute_result"
    }
   ],
   "source": [
    "##Create max requirements dataframe\n",
    "max1 = raw_data.iloc[[4,5],[1,2,3,4,5,6]]\n",
    "max1.index=['Max Expense','Max Capacity']\n",
    "max1.columns=DV_indexes\n",
    "max1"
   ]
  },
  {
   "cell_type": "markdown",
   "metadata": {},
   "source": [
    "##### [Back to Top](#Top)"
   ]
  },
  {
   "cell_type": "markdown",
   "metadata": {},
   "source": [
    "# 3. Model Definition<a id=3><a>"
   ]
  },
  {
   "cell_type": "code",
   "execution_count": 12,
   "metadata": {},
   "outputs": [],
   "source": [
    "model = pe.ConcreteModel()"
   ]
  },
  {
   "cell_type": "code",
   "execution_count": 13,
   "metadata": {},
   "outputs": [
    {
     "name": "stdout",
     "output_type": "stream",
     "text": [
      "x : Size=6, Index=x_index\n",
      "    Key             : Lower : Value : Upper : Fixed : Stale : Domain\n",
      "     Frozen Pupusas :     0 :  None :  None : False :  True : NonNegativeIntegers\n",
      "        Frozen Yuca :     0 :  None :  None : False :  True : NonNegativeIntegers\n",
      "    Masa De Tamales :     0 :  None :  None : False :  True : NonNegativeIntegers\n",
      "              Nance :     0 :  None :  None : False :  True : NonNegativeIntegers\n",
      "             Pacaya :     0 :  None :  None : False :  True : NonNegativeIntegers\n",
      "    Plantain Leaves :     0 :  None :  None : False :  True : NonNegativeIntegers\n",
      "y : Size=6, Index=y_index\n",
      "    Key             : Lower : Value : Upper : Fixed : Stale : Domain\n",
      "     Frozen Pupusas :     0 :  None :     1 : False :  True : Binary\n",
      "        Frozen Yuca :     0 :  None :     1 : False :  True : Binary\n",
      "    Masa De Tamales :     0 :  None :     1 : False :  True : Binary\n",
      "              Nance :     0 :  None :     1 : False :  True : Binary\n",
      "             Pacaya :     0 :  None :     1 : False :  True : Binary\n",
      "    Plantain Leaves :     0 :  None :     1 : False :  True : Binary\n"
     ]
    }
   ],
   "source": [
    "#define the decision variables. X- Variables are the associated quantities of each product, and the y-variables are the y/n binary decisions. \n",
    "model.x = pe.Var(DV_indexes, domain=pe.NonNegativeIntegers)\n",
    "model.y = pe.Var(DV_indexes, domain=pe.Binary)\n",
    "model.x.pprint()\n",
    "model.y.pprint()"
   ]
  },
  {
   "cell_type": "markdown",
   "metadata": {},
   "source": [
    "##### [Back to Top](#Top)"
   ]
  },
  {
   "cell_type": "markdown",
   "metadata": {},
   "source": [
    "# 4. Model Solution<a id=4></a>"
   ]
  },
  {
   "cell_type": "code",
   "execution_count": 14,
   "metadata": {},
   "outputs": [
    {
     "name": "stdout",
     "output_type": "stream",
     "text": [
      "obj : Size=1, Index=None, Active=True\n",
      "    Key  : Active : Sense    : Expression\n",
      "    None :   True : maximize : 80*x[Plantain Leaves] + 95*x[Frozen Yuca] + 100*x[Pacaya] + 85*x[Frozen Pupusas] + 75*x[Nance] + 115*x[Masa De Tamales] - (45*x[Plantain Leaves] + 65*x[Frozen Yuca] + 80*x[Pacaya] + 55*x[Frozen Pupusas] + 60*x[Nance] + 90*x[Masa De Tamales]) - (150*y[Plantain Leaves] + 180*y[Frozen Yuca] + 190*y[Pacaya] + 145*y[Frozen Pupusas] + 175*y[Nance] + 165*y[Masa De Tamales])\n"
     ]
    }
   ],
   "source": [
    "#maximize profit = revenue - shipping cost - variable cost(cost/unit)\n",
    "model.obj = pe.Objective(expr=sum(coef.loc['Revenue', c]*model.x[c]\n",
    "                                   for c in DV_indexes)\n",
    "                         - sum(coef.loc['Cost Per Unit',c]*model.x[c] \n",
    "                                for c in DV_indexes)\n",
    "                        - sum(coef.loc['Shipping Cost',c] *model.y[c]\n",
    "                                 for c in DV_indexes),\n",
    "                         sense=pe.maximize)\n",
    "model.obj.pprint()"
   ]
  },
  {
   "cell_type": "code",
   "execution_count": 15,
   "metadata": {},
   "outputs": [
    {
     "name": "stdout",
     "output_type": "stream",
     "text": [
      "WARNING: Implicitly replacing the Component attribute max_expense (type=<class\n",
      "    'pyomo.core.base.constraint.SimpleConstraint'>) on block unknown with a\n",
      "    new Component (type=<class\n",
      "    'pyomo.core.base.constraint.AbstractSimpleConstraint'>). This is usually\n",
      "    indicative of a modelling error. To avoid this warning, use\n",
      "    block.del_component() and block.add_component().\n",
      "WARNING: Implicitly replacing the Component attribute max_expense (type=<class\n",
      "    'pyomo.core.base.constraint.SimpleConstraint'>) on block unknown with a\n",
      "    new Component (type=<class\n",
      "    'pyomo.core.base.constraint.AbstractSimpleConstraint'>). This is usually\n",
      "    indicative of a modelling error. To avoid this warning, use\n",
      "    block.del_component() and block.add_component().\n",
      "WARNING: Implicitly replacing the Component attribute max_expense (type=<class\n",
      "    'pyomo.core.base.constraint.SimpleConstraint'>) on block unknown with a\n",
      "    new Component (type=<class\n",
      "    'pyomo.core.base.constraint.AbstractSimpleConstraint'>). This is usually\n",
      "    indicative of a modelling error. To avoid this warning, use\n",
      "    block.del_component() and block.add_component().\n",
      "WARNING: Implicitly replacing the Component attribute max_expense (type=<class\n",
      "    'pyomo.core.base.constraint.SimpleConstraint'>) on block unknown with a\n",
      "    new Component (type=<class\n",
      "    'pyomo.core.base.constraint.AbstractSimpleConstraint'>). This is usually\n",
      "    indicative of a modelling error. To avoid this warning, use\n",
      "    block.del_component() and block.add_component().\n",
      "WARNING: Implicitly replacing the Component attribute max_expense (type=<class\n",
      "    'pyomo.core.base.constraint.SimpleConstraint'>) on block unknown with a\n",
      "    new Component (type=<class\n",
      "    'pyomo.core.base.constraint.AbstractSimpleConstraint'>). This is usually\n",
      "    indicative of a modelling error. To avoid this warning, use\n",
      "    block.del_component() and block.add_component().\n",
      "2 Set Declarations\n",
      "    x_index : Size=1, Index=None, Ordered=Insertion\n",
      "        Key  : Dimen : Domain : Size : Members\n",
      "        None :     1 :    Any :    6 : {'Plantain Leaves', 'Frozen Yuca', 'Pacaya', 'Frozen Pupusas', 'Nance', 'Masa De Tamales'}\n",
      "    y_index : Size=1, Index=None, Ordered=Insertion\n",
      "        Key  : Dimen : Domain : Size : Members\n",
      "        None :     1 :    Any :    6 : {'Plantain Leaves', 'Frozen Yuca', 'Pacaya', 'Frozen Pupusas', 'Nance', 'Masa De Tamales'}\n",
      "\n",
      "2 Var Declarations\n",
      "    x : Size=6, Index=x_index\n",
      "        Key             : Lower : Value : Upper : Fixed : Stale : Domain\n",
      "         Frozen Pupusas :     0 :  None :  None : False :  True : NonNegativeIntegers\n",
      "            Frozen Yuca :     0 :  None :  None : False :  True : NonNegativeIntegers\n",
      "        Masa De Tamales :     0 :  None :  None : False :  True : NonNegativeIntegers\n",
      "                  Nance :     0 :  None :  None : False :  True : NonNegativeIntegers\n",
      "                 Pacaya :     0 :  None :  None : False :  True : NonNegativeIntegers\n",
      "        Plantain Leaves :     0 :  None :  None : False :  True : NonNegativeIntegers\n",
      "    y : Size=6, Index=y_index\n",
      "        Key             : Lower : Value : Upper : Fixed : Stale : Domain\n",
      "         Frozen Pupusas :     0 :  None :     1 : False :  True : Binary\n",
      "            Frozen Yuca :     0 :  None :     1 : False :  True : Binary\n",
      "        Masa De Tamales :     0 :  None :     1 : False :  True : Binary\n",
      "                  Nance :     0 :  None :     1 : False :  True : Binary\n",
      "                 Pacaya :     0 :  None :     1 : False :  True : Binary\n",
      "        Plantain Leaves :     0 :  None :     1 : False :  True : Binary\n",
      "\n",
      "1 Objective Declarations\n",
      "    obj : Size=1, Index=None, Active=True\n",
      "        Key  : Active : Sense    : Expression\n",
      "        None :   True : maximize : 80*x[Plantain Leaves] + 95*x[Frozen Yuca] + 100*x[Pacaya] + 85*x[Frozen Pupusas] + 75*x[Nance] + 115*x[Masa De Tamales] - (45*x[Plantain Leaves] + 65*x[Frozen Yuca] + 80*x[Pacaya] + 55*x[Frozen Pupusas] + 60*x[Nance] + 90*x[Masa De Tamales]) - (150*y[Plantain Leaves] + 180*y[Frozen Yuca] + 190*y[Pacaya] + 145*y[Frozen Pupusas] + 175*y[Nance] + 165*y[Masa De Tamales])\n",
      "\n",
      "10 Constraint Declarations\n",
      "    LinkFP : Size=1, Index=None, Active=True\n",
      "        Key  : Lower : Body                                     : Upper : Active\n",
      "        None :  -Inf : x[Frozen Pupusas] - 55*y[Frozen Pupusas] :   0.0 :   True\n",
      "    LinkFY : Size=1, Index=None, Active=True\n",
      "        Key  : Lower : Body                               : Upper : Active\n",
      "        None :  -Inf : x[Frozen Yuca] - 55*y[Frozen Yuca] :   0.0 :   True\n",
      "    LinkMT : Size=1, Index=None, Active=True\n",
      "        Key  : Lower : Body                                       : Upper : Active\n",
      "        None :  -Inf : x[Masa De Tamales] - 65*y[Masa De Tamales] :   0.0 :   True\n",
      "    LinkNE : Size=1, Index=None, Active=True\n",
      "        Key  : Lower : Body                   : Upper : Active\n",
      "        None :  -Inf : x[Nance] - 70*y[Nance] :   0.0 :   True\n",
      "    LinkPA : Size=1, Index=None, Active=True\n",
      "        Key  : Lower : Body                     : Upper : Active\n",
      "        None :  -Inf : x[Pacaya] - 60*y[Pacaya] :   0.0 :   True\n",
      "    LinkPL : Size=1, Index=None, Active=True\n",
      "        Key  : Lower : Body                                       : Upper : Active\n",
      "        None :  -Inf : x[Plantain Leaves] - 50*y[Plantain Leaves] :   0.0 :   True\n",
      "    cons_FrozenP2P4 : Size=1, Index=None, Active=True\n",
      "        Key  : Lower : Body                               : Upper : Active\n",
      "        None :  -Inf : y[Frozen Yuca] + y[Frozen Pupusas] :   1.0 :   True\n",
      "    cons_MEP3P5 : Size=1, Index=None, Active=True\n",
      "        Key  : Lower : Body                 : Upper : Active\n",
      "        None :  -Inf : y[Pacaya] + y[Nance] :   1.0 :   True\n",
      "    cons_P1contonP6 : Size=1, Index=None, Active=True\n",
      "        Key  : Lower : Body                                    : Upper : Active\n",
      "        None :   0.0 : y[Masa De Tamales] - y[Plantain Leaves] :  +Inf :   True\n",
      "    max_expense : Size=1, Index=None, Active=True\n",
      "        Key  : Lower : Body                   : Upper  : Active\n",
      "        None :  -Inf : 115*x[Masa De Tamales] : 1100.0 :   True\n",
      "\n",
      "15 Declarations: x_index x y_index y obj max_expense LinkPL LinkFY LinkPA LinkFP LinkNE LinkMT cons_FrozenP2P4 cons_MEP3P5 cons_P1contonP6\n"
     ]
    }
   ],
   "source": [
    "#Max Expense for Each Product\n",
    "model.max_expense = pe.Constraint(expr=coef.loc['Revenue','Plantain Leaves']*model.x['Plantain Leaves']\n",
    "                                    <= max1.loc['Max Expense','Plantain Leaves'])\n",
    "model.max_expense = pe.Constraint(expr=coef.loc['Revenue','Frozen Yuca']*model.x['Frozen Yuca']\n",
    "                                    <= max1.loc['Max Expense','Frozen Yuca'])\n",
    "model.max_expense = pe.Constraint(expr=coef.loc['Revenue','Pacaya']*model.x['Pacaya']\n",
    "                                    <= max1.loc['Max Expense','Pacaya'])\n",
    "model.max_expense = pe.Constraint(expr=coef.loc['Revenue','Frozen Pupusas']*model.x['Frozen Pupusas']\n",
    "                                    <= max1.loc['Max Expense','Frozen Pupusas'])\n",
    "model.max_expense = pe.Constraint(expr=coef.loc['Revenue','Nance']*model.x['Nance']\n",
    "                                    <= max1.loc['Max Expense','Nance'])\n",
    "model.max_expense = pe.Constraint(expr=coef.loc['Revenue','Masa De Tamales']*model.x['Masa De Tamales']\n",
    "                                    <= max1.loc['Max Expense','Masa De Tamales'])\n",
    "    \n",
    "#Linking Maximum Capacity constraint\n",
    "model.LinkPL = pe.Constraint(expr=model.x['Plantain Leaves'] <= max1.loc['Max Capacity','Plantain Leaves'] * model.y['Plantain Leaves'])\n",
    "model.LinkFY = pe.Constraint(expr=model.x['Frozen Yuca'] <= max1.loc['Max Capacity','Frozen Yuca'] * model.y['Frozen Yuca'])\n",
    "model.LinkPA = pe.Constraint(expr=model.x['Pacaya'] <= max1.loc['Max Capacity','Pacaya'] * model.y['Pacaya'])\n",
    "model.LinkFP = pe.Constraint(expr=model.x['Frozen Pupusas'] <= max1.loc['Max Capacity','Frozen Pupusas'] * model.y['Frozen Pupusas'])\n",
    "model.LinkNE = pe.Constraint(expr=model.x['Nance'] <= max1.loc['Max Capacity','Nance'] * model.y['Nance'])\n",
    "model.LinkMT = pe.Constraint(expr=model.x['Masa De Tamales'] <= max1.loc['Max Capacity','Masa De Tamales'] * model.y['Masa De Tamales'])\n",
    "\n",
    "#Logical Constraints\n",
    "#Requires 1 Frozen Product: P2 or P4 -> P2 + P4 >=1\n",
    "model.cons_FrozenP2P4 = pe.Constraint(expr=model.y['Frozen Yuca']+model.y['Frozen Pupusas'] <= 1)\n",
    "#P3 and P5 mutually exclusive -> P3 + P5 <=1\n",
    "model.cons_MEP3P5 = pe.Constraint(expr=model.y['Pacaya']+model.y['Nance'] <= 1)\n",
    "#P1 is contingent on P6 -> P6-P1 >=0\n",
    "model.cons_P1contonP6 = pe.Constraint(expr=model.y['Masa De Tamales']-model.y['Plantain Leaves'] >= 0)\n",
    "\n",
    "\n",
    "model.pprint() #prints all objects (obj function, constraints, etc.) defined in the model"
   ]
  },
  {
   "cell_type": "markdown",
   "metadata": {},
   "source": [
    "### Model Solution"
   ]
  },
  {
   "cell_type": "code",
   "execution_count": 16,
   "metadata": {},
   "outputs": [
    {
     "name": "stdout",
     "output_type": "stream",
     "text": [
      "ok optimal\n"
     ]
    }
   ],
   "source": [
    "opt = pe.SolverFactory('glpk')\n",
    "#opt.solve(model,tee=True) \n",
    "success=opt.solve(model)\n",
    "print(success.solver.status,success.solver.termination_condition)"
   ]
  },
  {
   "cell_type": "code",
   "execution_count": 17,
   "metadata": {},
   "outputs": [
    {
     "data": {
      "text/markdown": [
       "optimal objective value maximum profit = $4175.00"
      ],
      "text/plain": [
       "<IPython.core.display.Markdown object>"
      ]
     },
     "metadata": {},
     "output_type": "display_data"
    }
   ],
   "source": [
    "#output objective function\n",
    "obj_val = model.obj.expr()\n",
    "printmd(f'optimal objective value maximum profit = ${obj_val:.2f}')"
   ]
  },
  {
   "cell_type": "code",
   "execution_count": 18,
   "metadata": {},
   "outputs": [
    {
     "data": {
      "text/html": [
       "<div>\n",
       "<style scoped>\n",
       "    .dataframe tbody tr th:only-of-type {\n",
       "        vertical-align: middle;\n",
       "    }\n",
       "\n",
       "    .dataframe tbody tr th {\n",
       "        vertical-align: top;\n",
       "    }\n",
       "\n",
       "    .dataframe thead th {\n",
       "        text-align: right;\n",
       "    }\n",
       "</style>\n",
       "<table border=\"1\" class=\"dataframe\">\n",
       "  <thead>\n",
       "    <tr style=\"text-align: right;\">\n",
       "      <th></th>\n",
       "      <th>Plantain Leaves</th>\n",
       "      <th>Frozen Yuca</th>\n",
       "      <th>Pacaya</th>\n",
       "      <th>Frozen Pupusas</th>\n",
       "      <th>Nance</th>\n",
       "      <th>Masa De Tamales</th>\n",
       "    </tr>\n",
       "  </thead>\n",
       "  <tbody>\n",
       "    <tr>\n",
       "      <th>x</th>\n",
       "      <td>50.0</td>\n",
       "      <td>0.0</td>\n",
       "      <td>60.0</td>\n",
       "      <td>55.0</td>\n",
       "      <td>0.0</td>\n",
       "      <td>9.0</td>\n",
       "    </tr>\n",
       "    <tr>\n",
       "      <th>y</th>\n",
       "      <td>1.0</td>\n",
       "      <td>0.0</td>\n",
       "      <td>1.0</td>\n",
       "      <td>1.0</td>\n",
       "      <td>0.0</td>\n",
       "      <td>1.0</td>\n",
       "    </tr>\n",
       "  </tbody>\n",
       "</table>\n",
       "</div>"
      ],
      "text/plain": [
       "   Plantain Leaves  Frozen Yuca  Pacaya  Frozen Pupusas  Nance  \\\n",
       "x             50.0          0.0    60.0            55.0    0.0   \n",
       "y              1.0          0.0     1.0             1.0    0.0   \n",
       "\n",
       "   Masa De Tamales  \n",
       "x              9.0  \n",
       "y              1.0  "
      ]
     },
     "execution_count": 18,
     "metadata": {},
     "output_type": "execute_result"
    }
   ],
   "source": [
    "#create dataframe for decision variables\n",
    "DV_solution1 = pd.DataFrame()\n",
    "for DV in model.component_objects(pe.Var):\n",
    "    for c in DV:\n",
    "        DV_solution1.loc[DV.name,c] = DV[c].value\n",
    "DV_solution1"
   ]
  },
  {
   "cell_type": "markdown",
   "metadata": {},
   "source": [
    "##### [Back to Top](#Top)"
   ]
  },
  {
   "cell_type": "markdown",
   "metadata": {},
   "source": [
    "# 5. Sensitivity Analysis<a id=5></a>"
   ]
  },
  {
   "cell_type": "code",
   "execution_count": 19,
   "metadata": {},
   "outputs": [],
   "source": [
    "#create a function to run sensitivity analysis \n",
    "def run_model():\n",
    "    model = pe.ConcreteModel()\n",
    "    # Define Decision Variables\n",
    "    model.x = pe.Var(DV_indexes, domain=pe.NonNegativeIntegers)\n",
    "    model.y = pe.Var(DV_indexes, domain=pe.Binary)\n",
    "    #maximize profit = revenue - fixed cost - variable cost\n",
    "    model.obj = pe.Objective(expr=sum(coef.loc['Revenue', c]*model.x[c]\n",
    "                                   for c in DV_indexes)\n",
    "                         - sum(coef.loc['Cost Per Unit',c]*model.x[c] \n",
    "                                for c in DV_indexes)\n",
    "                        - sum(coef.loc['Shipping Cost',c] *model.y[c]\n",
    "                                 for c in DV_indexes),\n",
    "                         sense=pe.maximize)\n",
    "    #Max Expenses\n",
    "    model.max_expense = pe.Constraint(expr=coef.loc['Revenue','Plantain Leaves']*model.x['Plantain Leaves']\n",
    "                                    <= max.loc['Max Expense','Plantain Leaves'])\n",
    "    model.max_expense = pe.Constraint(expr=coef.loc['Revenue','Frozen Yuca']*model.x['Frozen Yuca']\n",
    "                                    <= max.loc['Max Expense','Frozen Yuca'])\n",
    "    model.max_expense = pe.Constraint(expr=coef.loc['Revenue','Pacaya']*model.x['Pacaya']\n",
    "                                    <= max.loc['Max Expense','Pacaya'])\n",
    "    model.max_expense = pe.Constraint(expr=coef.loc['Revenue','Frozen Pupusas']*model.x['Frozen Pupusas']\n",
    "                                    <= max.loc['Max Expense','Frozen Pupusas'])\n",
    "    model.max_expense = pe.Constraint(expr=coef.loc['Revenue','Nance']*model.x['Nance']\n",
    "                                    <= max.loc['Max Expense','Nance'])\n",
    "    model.max_expense = pe.Constraint(expr=coef.loc['Revenue','Masa De Tamales']*model.x['Masa De Tamales']\n",
    "                                    <= max.loc['Max Expense','Masa De Tamales'])\n",
    "\n",
    "    #Linking Fixed Maximum Capacity Requirements\n",
    "    model.LinkPL = pe.Constraint(expr=model.x['Plantain Leaves'] <= max.loc['Max Capacity','Plantain Leaves'] * model.y['Plantain Leaves'])\n",
    "    model.LinkFY = pe.Constraint(expr=model.x['Frozen Yuca'] <= max.loc['Max Capacity','Frozen Yuca'] * model.y['Frozen Yuca'])\n",
    "    model.LinkPA = pe.Constraint(expr=model.x['Pacaya'] <= max.loc['Max Capacity','Pacaya'] * model.y['Pacaya'])\n",
    "    model.LinkFP = pe.Constraint(expr=model.x['Frozen Pupusas'] <= max.loc['Max Capacity','Frozen Pupusas'] * model.y['Frozen Pupusas'])\n",
    "    model.LinkNE = pe.Constraint(expr=model.x['Nance'] <= max.loc['Max Capacity','Nance'] * model.y['Nance'])\n",
    "    model.LinkMT = pe.Constraint(expr=model.x['Masa De Tamales'] <= max.loc['Max Capacity','Masa De Tamales'] * model.y['Masa De Tamales'])\n",
    "    \n",
    "    #Logical Constraints\n",
    "    #Requires 1 Frozen Product: P2 or P4 -> P2 + P4 >=1\n",
    "    model.cons_FrozenP2P4 = pe.Constraint(expr=model.y['Frozen Yuca']+model.y['Frozen Pupusas'] <= 1)\n",
    "    #P3 and P5 mutually exclusive -> P3 + P5 <=1\n",
    "    model.cons_MEP3P5 = pe.Constraint(expr=model.y['Pacaya']+model.y['Nance'] <= 1)\n",
    "    #P1 is contingent on P6 -> P6-P1 >=0\n",
    "    model.cons_P1contonP6 = pe.Constraint(expr=model.y['Masa De Tamales']-model.y['Plantain Leaves'] >= 0)\n",
    "\n",
    "    opt = pe.SolverFactory('glpk')\n",
    "    #opt.solve(model,tee=True) \n",
    "    success=opt.solve(model)\n",
    "    return model"
   ]
  },
  {
   "cell_type": "code",
   "execution_count": 20,
   "metadata": {},
   "outputs": [
    {
     "data": {
      "text/html": [
       "<div>\n",
       "<style scoped>\n",
       "    .dataframe tbody tr th:only-of-type {\n",
       "        vertical-align: middle;\n",
       "    }\n",
       "\n",
       "    .dataframe tbody tr th {\n",
       "        vertical-align: top;\n",
       "    }\n",
       "\n",
       "    .dataframe thead th {\n",
       "        text-align: right;\n",
       "    }\n",
       "</style>\n",
       "<table border=\"1\" class=\"dataframe\">\n",
       "  <thead>\n",
       "    <tr style=\"text-align: right;\">\n",
       "      <th></th>\n",
       "      <th>Plantain Leaves</th>\n",
       "      <th>Frozen Yuca</th>\n",
       "      <th>Pacaya</th>\n",
       "      <th>Frozen Pupusas</th>\n",
       "      <th>Nance</th>\n",
       "      <th>Masa De Tamales</th>\n",
       "    </tr>\n",
       "  </thead>\n",
       "  <tbody>\n",
       "    <tr>\n",
       "      <th>Max Expense</th>\n",
       "      <td>1000</td>\n",
       "      <td>900</td>\n",
       "      <td>1000</td>\n",
       "      <td>850</td>\n",
       "      <td>750</td>\n",
       "      <td>1100</td>\n",
       "    </tr>\n",
       "    <tr>\n",
       "      <th>Max Capacity</th>\n",
       "      <td>50</td>\n",
       "      <td>55</td>\n",
       "      <td>60</td>\n",
       "      <td>55</td>\n",
       "      <td>70</td>\n",
       "      <td>65</td>\n",
       "    </tr>\n",
       "  </tbody>\n",
       "</table>\n",
       "</div>"
      ],
      "text/plain": [
       "             Plantain Leaves Frozen Yuca Pacaya Frozen Pupusas Nance  \\\n",
       "Max Expense             1000         900   1000            850   750   \n",
       "Max Capacity              50          55     60             55    70   \n",
       "\n",
       "             Masa De Tamales  \n",
       "Max Expense             1100  \n",
       "Max Capacity              65  "
      ]
     },
     "execution_count": 20,
     "metadata": {},
     "output_type": "execute_result"
    }
   ],
   "source": [
    "max_orig = max1.copy()\n",
    "max_orig"
   ]
  },
  {
   "cell_type": "markdown",
   "metadata": {},
   "source": [
    "### Dataframe to hold results"
   ]
  },
  {
   "cell_type": "code",
   "execution_count": 21,
   "metadata": {},
   "outputs": [],
   "source": [
    "results = pd.DataFrame()"
   ]
  },
  {
   "cell_type": "markdown",
   "metadata": {},
   "source": [
    "## Run the Problem with Different Max Product Requirements "
   ]
  },
  {
   "cell_type": "code",
   "execution_count": 22,
   "metadata": {},
   "outputs": [
    {
     "name": "stdout",
     "output_type": "stream",
     "text": [
      "WARNING: Implicitly replacing the Component attribute max_expense (type=<class\n",
      "    'pyomo.core.base.constraint.SimpleConstraint'>) on block unknown with a\n",
      "    new Component (type=<class\n",
      "    'pyomo.core.base.constraint.AbstractSimpleConstraint'>). This is usually\n",
      "    indicative of a modelling error. To avoid this warning, use\n",
      "    block.del_component() and block.add_component().\n",
      "WARNING: Implicitly replacing the Component attribute max_expense (type=<class\n",
      "    'pyomo.core.base.constraint.SimpleConstraint'>) on block unknown with a\n",
      "    new Component (type=<class\n",
      "    'pyomo.core.base.constraint.AbstractSimpleConstraint'>). This is usually\n",
      "    indicative of a modelling error. To avoid this warning, use\n",
      "    block.del_component() and block.add_component().\n",
      "WARNING: Implicitly replacing the Component attribute max_expense (type=<class\n",
      "    'pyomo.core.base.constraint.SimpleConstraint'>) on block unknown with a\n",
      "    new Component (type=<class\n",
      "    'pyomo.core.base.constraint.AbstractSimpleConstraint'>). This is usually\n",
      "    indicative of a modelling error. To avoid this warning, use\n",
      "    block.del_component() and block.add_component().\n",
      "WARNING: Implicitly replacing the Component attribute max_expense (type=<class\n",
      "    'pyomo.core.base.constraint.SimpleConstraint'>) on block unknown with a\n",
      "    new Component (type=<class\n",
      "    'pyomo.core.base.constraint.AbstractSimpleConstraint'>). This is usually\n",
      "    indicative of a modelling error. To avoid this warning, use\n",
      "    block.del_component() and block.add_component().\n",
      "WARNING: Implicitly replacing the Component attribute max_expense (type=<class\n",
      "    'pyomo.core.base.constraint.SimpleConstraint'>) on block unknown with a\n",
      "    new Component (type=<class\n",
      "    'pyomo.core.base.constraint.AbstractSimpleConstraint'>). This is usually\n",
      "    indicative of a modelling error. To avoid this warning, use\n",
      "    block.del_component() and block.add_component().\n",
      "WARNING: Implicitly replacing the Component attribute max_expense (type=<class\n",
      "    'pyomo.core.base.constraint.SimpleConstraint'>) on block unknown with a\n",
      "    new Component (type=<class\n",
      "    'pyomo.core.base.constraint.AbstractSimpleConstraint'>). This is usually\n",
      "    indicative of a modelling error. To avoid this warning, use\n",
      "    block.del_component() and block.add_component().\n",
      "WARNING: Implicitly replacing the Component attribute max_expense (type=<class\n",
      "    'pyomo.core.base.constraint.SimpleConstraint'>) on block unknown with a\n",
      "    new Component (type=<class\n",
      "    'pyomo.core.base.constraint.AbstractSimpleConstraint'>). This is usually\n",
      "    indicative of a modelling error. To avoid this warning, use\n",
      "    block.del_component() and block.add_component().\n",
      "WARNING: Implicitly replacing the Component attribute max_expense (type=<class\n",
      "    'pyomo.core.base.constraint.SimpleConstraint'>) on block unknown with a\n",
      "    new Component (type=<class\n",
      "    'pyomo.core.base.constraint.AbstractSimpleConstraint'>). This is usually\n",
      "    indicative of a modelling error. To avoid this warning, use\n",
      "    block.del_component() and block.add_component().\n",
      "WARNING: Implicitly replacing the Component attribute max_expense (type=<class\n",
      "    'pyomo.core.base.constraint.SimpleConstraint'>) on block unknown with a\n",
      "    new Component (type=<class\n",
      "    'pyomo.core.base.constraint.AbstractSimpleConstraint'>). This is usually\n",
      "    indicative of a modelling error. To avoid this warning, use\n",
      "    block.del_component() and block.add_component().\n",
      "WARNING: Implicitly replacing the Component attribute max_expense (type=<class\n",
      "    'pyomo.core.base.constraint.SimpleConstraint'>) on block unknown with a\n",
      "    new Component (type=<class\n",
      "    'pyomo.core.base.constraint.AbstractSimpleConstraint'>). This is usually\n",
      "    indicative of a modelling error. To avoid this warning, use\n",
      "    block.del_component() and block.add_component().\n",
      "WARNING: Implicitly replacing the Component attribute max_expense (type=<class\n",
      "    'pyomo.core.base.constraint.SimpleConstraint'>) on block unknown with a\n",
      "    new Component (type=<class\n",
      "    'pyomo.core.base.constraint.AbstractSimpleConstraint'>). This is usually\n",
      "    indicative of a modelling error. To avoid this warning, use\n",
      "    block.del_component() and block.add_component().\n",
      "WARNING: Implicitly replacing the Component attribute max_expense (type=<class\n",
      "    'pyomo.core.base.constraint.SimpleConstraint'>) on block unknown with a\n",
      "    new Component (type=<class\n",
      "    'pyomo.core.base.constraint.AbstractSimpleConstraint'>). This is usually\n",
      "    indicative of a modelling error. To avoid this warning, use\n",
      "    block.del_component() and block.add_component().\n",
      "WARNING: Implicitly replacing the Component attribute max_expense (type=<class\n",
      "    'pyomo.core.base.constraint.SimpleConstraint'>) on block unknown with a\n",
      "    new Component (type=<class\n",
      "    'pyomo.core.base.constraint.AbstractSimpleConstraint'>). This is usually\n",
      "    indicative of a modelling error. To avoid this warning, use\n",
      "    block.del_component() and block.add_component().\n",
      "WARNING: Implicitly replacing the Component attribute max_expense (type=<class\n",
      "    'pyomo.core.base.constraint.SimpleConstraint'>) on block unknown with a\n",
      "    new Component (type=<class\n",
      "    'pyomo.core.base.constraint.AbstractSimpleConstraint'>). This is usually\n",
      "    indicative of a modelling error. To avoid this warning, use\n",
      "    block.del_component() and block.add_component().\n",
      "WARNING: Implicitly replacing the Component attribute max_expense (type=<class\n",
      "    'pyomo.core.base.constraint.SimpleConstraint'>) on block unknown with a\n",
      "    new Component (type=<class\n",
      "    'pyomo.core.base.constraint.AbstractSimpleConstraint'>). This is usually\n",
      "    indicative of a modelling error. To avoid this warning, use\n",
      "    block.del_component() and block.add_component().\n"
     ]
    },
    {
     "data": {
      "text/html": [
       "<div>\n",
       "<style scoped>\n",
       "    .dataframe tbody tr th:only-of-type {\n",
       "        vertical-align: middle;\n",
       "    }\n",
       "\n",
       "    .dataframe tbody tr th {\n",
       "        vertical-align: top;\n",
       "    }\n",
       "\n",
       "    .dataframe thead th {\n",
       "        text-align: right;\n",
       "    }\n",
       "</style>\n",
       "<table border=\"1\" class=\"dataframe\">\n",
       "  <thead>\n",
       "    <tr style=\"text-align: right;\">\n",
       "      <th></th>\n",
       "      <th>Plantain Leaves</th>\n",
       "      <th>Frozen Yuca</th>\n",
       "      <th>Pacaya</th>\n",
       "      <th>Frozen Pupusas</th>\n",
       "      <th>Nance</th>\n",
       "      <th>Masa De Tamales</th>\n",
       "      <th>opt profit</th>\n",
       "    </tr>\n",
       "  </thead>\n",
       "  <tbody>\n",
       "    <tr>\n",
       "      <th>max capacity5</th>\n",
       "      <td>55.0</td>\n",
       "      <td>0.0</td>\n",
       "      <td>65.0</td>\n",
       "      <td>60.0</td>\n",
       "      <td>0.0</td>\n",
       "      <td>9.0</td>\n",
       "      <td>4600.0</td>\n",
       "    </tr>\n",
       "    <tr>\n",
       "      <th>max capacity10</th>\n",
       "      <td>60.0</td>\n",
       "      <td>0.0</td>\n",
       "      <td>70.0</td>\n",
       "      <td>65.0</td>\n",
       "      <td>0.0</td>\n",
       "      <td>9.0</td>\n",
       "      <td>5025.0</td>\n",
       "    </tr>\n",
       "    <tr>\n",
       "      <th>max capacity15</th>\n",
       "      <td>65.0</td>\n",
       "      <td>0.0</td>\n",
       "      <td>75.0</td>\n",
       "      <td>70.0</td>\n",
       "      <td>0.0</td>\n",
       "      <td>9.0</td>\n",
       "      <td>5450.0</td>\n",
       "    </tr>\n",
       "  </tbody>\n",
       "</table>\n",
       "</div>"
      ],
      "text/plain": [
       "                Plantain Leaves  Frozen Yuca  Pacaya  Frozen Pupusas  Nance  \\\n",
       "max capacity5              55.0          0.0    65.0            60.0    0.0   \n",
       "max capacity10             60.0          0.0    70.0            65.0    0.0   \n",
       "max capacity15             65.0          0.0    75.0            70.0    0.0   \n",
       "\n",
       "                Masa De Tamales  opt profit  \n",
       "max capacity5               9.0      4600.0  \n",
       "max capacity10              9.0      5025.0  \n",
       "max capacity15              9.0      5450.0  "
      ]
     },
     "execution_count": 22,
     "metadata": {},
     "output_type": "execute_result"
    }
   ],
   "source": [
    "# increase max. capacity by 5, 10, and 15 units\n",
    "for w in [5, 10, 15]:\n",
    "    max = max_orig.copy() #reset to original\n",
    "    max.loc['Max Capacity'] = max.loc['Max Capacity'] + w\n",
    "    model = run_model()\n",
    "    #capture DV and optimal profit\n",
    "    DV_solution = pd.DataFrame()\n",
    "    for c in DV_indexes:\n",
    "        DV_solution.loc[f'max capacity{w}',c] = model.x[c].value\n",
    "    results = results.append(DV_solution)\n",
    "    results.loc[f'max capacity{w}','opt profit'] = model.obj.expr()\n",
    "\n",
    "results"
   ]
  },
  {
   "cell_type": "markdown",
   "metadata": {},
   "source": [
    "##### [Back to Top](#Top)"
   ]
  },
  {
   "cell_type": "markdown",
   "metadata": {},
   "source": [
    "## Run the problem with varying max expenses"
   ]
  },
  {
   "cell_type": "code",
   "execution_count": 23,
   "metadata": {},
   "outputs": [
    {
     "name": "stdout",
     "output_type": "stream",
     "text": [
      "WARNING: Implicitly replacing the Component attribute max_expense (type=<class\n",
      "    'pyomo.core.base.constraint.SimpleConstraint'>) on block unknown with a\n",
      "    new Component (type=<class\n",
      "    'pyomo.core.base.constraint.AbstractSimpleConstraint'>). This is usually\n",
      "    indicative of a modelling error. To avoid this warning, use\n",
      "    block.del_component() and block.add_component().\n",
      "WARNING: Implicitly replacing the Component attribute max_expense (type=<class\n",
      "    'pyomo.core.base.constraint.SimpleConstraint'>) on block unknown with a\n",
      "    new Component (type=<class\n",
      "    'pyomo.core.base.constraint.AbstractSimpleConstraint'>). This is usually\n",
      "    indicative of a modelling error. To avoid this warning, use\n",
      "    block.del_component() and block.add_component().\n",
      "WARNING: Implicitly replacing the Component attribute max_expense (type=<class\n",
      "    'pyomo.core.base.constraint.SimpleConstraint'>) on block unknown with a\n",
      "    new Component (type=<class\n",
      "    'pyomo.core.base.constraint.AbstractSimpleConstraint'>). This is usually\n",
      "    indicative of a modelling error. To avoid this warning, use\n",
      "    block.del_component() and block.add_component().\n",
      "WARNING: Implicitly replacing the Component attribute max_expense (type=<class\n",
      "    'pyomo.core.base.constraint.SimpleConstraint'>) on block unknown with a\n",
      "    new Component (type=<class\n",
      "    'pyomo.core.base.constraint.AbstractSimpleConstraint'>). This is usually\n",
      "    indicative of a modelling error. To avoid this warning, use\n",
      "    block.del_component() and block.add_component().\n",
      "WARNING: Implicitly replacing the Component attribute max_expense (type=<class\n",
      "    'pyomo.core.base.constraint.SimpleConstraint'>) on block unknown with a\n",
      "    new Component (type=<class\n",
      "    'pyomo.core.base.constraint.AbstractSimpleConstraint'>). This is usually\n",
      "    indicative of a modelling error. To avoid this warning, use\n",
      "    block.del_component() and block.add_component().\n",
      "WARNING: Implicitly replacing the Component attribute max_expense (type=<class\n",
      "    'pyomo.core.base.constraint.SimpleConstraint'>) on block unknown with a\n",
      "    new Component (type=<class\n",
      "    'pyomo.core.base.constraint.AbstractSimpleConstraint'>). This is usually\n",
      "    indicative of a modelling error. To avoid this warning, use\n",
      "    block.del_component() and block.add_component().\n",
      "WARNING: Implicitly replacing the Component attribute max_expense (type=<class\n",
      "    'pyomo.core.base.constraint.SimpleConstraint'>) on block unknown with a\n",
      "    new Component (type=<class\n",
      "    'pyomo.core.base.constraint.AbstractSimpleConstraint'>). This is usually\n",
      "    indicative of a modelling error. To avoid this warning, use\n",
      "    block.del_component() and block.add_component().\n",
      "WARNING: Implicitly replacing the Component attribute max_expense (type=<class\n",
      "    'pyomo.core.base.constraint.SimpleConstraint'>) on block unknown with a\n",
      "    new Component (type=<class\n",
      "    'pyomo.core.base.constraint.AbstractSimpleConstraint'>). This is usually\n",
      "    indicative of a modelling error. To avoid this warning, use\n",
      "    block.del_component() and block.add_component().\n",
      "WARNING: Implicitly replacing the Component attribute max_expense (type=<class\n",
      "    'pyomo.core.base.constraint.SimpleConstraint'>) on block unknown with a\n",
      "    new Component (type=<class\n",
      "    'pyomo.core.base.constraint.AbstractSimpleConstraint'>). This is usually\n",
      "    indicative of a modelling error. To avoid this warning, use\n",
      "    block.del_component() and block.add_component().\n",
      "WARNING: Implicitly replacing the Component attribute max_expense (type=<class\n",
      "    'pyomo.core.base.constraint.SimpleConstraint'>) on block unknown with a\n",
      "    new Component (type=<class\n",
      "    'pyomo.core.base.constraint.AbstractSimpleConstraint'>). This is usually\n",
      "    indicative of a modelling error. To avoid this warning, use\n",
      "    block.del_component() and block.add_component().\n",
      "WARNING: Implicitly replacing the Component attribute max_expense (type=<class\n",
      "    'pyomo.core.base.constraint.SimpleConstraint'>) on block unknown with a\n",
      "    new Component (type=<class\n",
      "    'pyomo.core.base.constraint.AbstractSimpleConstraint'>). This is usually\n",
      "    indicative of a modelling error. To avoid this warning, use\n",
      "    block.del_component() and block.add_component().\n",
      "WARNING: Implicitly replacing the Component attribute max_expense (type=<class\n",
      "    'pyomo.core.base.constraint.SimpleConstraint'>) on block unknown with a\n",
      "    new Component (type=<class\n",
      "    'pyomo.core.base.constraint.AbstractSimpleConstraint'>). This is usually\n",
      "    indicative of a modelling error. To avoid this warning, use\n",
      "    block.del_component() and block.add_component().\n",
      "WARNING: Implicitly replacing the Component attribute max_expense (type=<class\n",
      "    'pyomo.core.base.constraint.SimpleConstraint'>) on block unknown with a\n",
      "    new Component (type=<class\n",
      "    'pyomo.core.base.constraint.AbstractSimpleConstraint'>). This is usually\n",
      "    indicative of a modelling error. To avoid this warning, use\n",
      "    block.del_component() and block.add_component().\n",
      "WARNING: Implicitly replacing the Component attribute max_expense (type=<class\n",
      "    'pyomo.core.base.constraint.SimpleConstraint'>) on block unknown with a\n",
      "    new Component (type=<class\n",
      "    'pyomo.core.base.constraint.AbstractSimpleConstraint'>). This is usually\n",
      "    indicative of a modelling error. To avoid this warning, use\n",
      "    block.del_component() and block.add_component().\n",
      "WARNING: Implicitly replacing the Component attribute max_expense (type=<class\n",
      "    'pyomo.core.base.constraint.SimpleConstraint'>) on block unknown with a\n",
      "    new Component (type=<class\n",
      "    'pyomo.core.base.constraint.AbstractSimpleConstraint'>). This is usually\n",
      "    indicative of a modelling error. To avoid this warning, use\n",
      "    block.del_component() and block.add_component().\n",
      "WARNING: Implicitly replacing the Component attribute max_expense (type=<class\n",
      "    'pyomo.core.base.constraint.SimpleConstraint'>) on block unknown with a\n",
      "    new Component (type=<class\n",
      "    'pyomo.core.base.constraint.AbstractSimpleConstraint'>). This is usually\n",
      "    indicative of a modelling error. To avoid this warning, use\n",
      "    block.del_component() and block.add_component().\n",
      "WARNING: Implicitly replacing the Component attribute max_expense (type=<class\n",
      "    'pyomo.core.base.constraint.SimpleConstraint'>) on block unknown with a\n",
      "    new Component (type=<class\n",
      "    'pyomo.core.base.constraint.AbstractSimpleConstraint'>). This is usually\n",
      "    indicative of a modelling error. To avoid this warning, use\n",
      "    block.del_component() and block.add_component().\n",
      "WARNING: Implicitly replacing the Component attribute max_expense (type=<class\n",
      "    'pyomo.core.base.constraint.SimpleConstraint'>) on block unknown with a\n",
      "    new Component (type=<class\n",
      "    'pyomo.core.base.constraint.AbstractSimpleConstraint'>). This is usually\n",
      "    indicative of a modelling error. To avoid this warning, use\n",
      "    block.del_component() and block.add_component().\n",
      "WARNING: Implicitly replacing the Component attribute max_expense (type=<class\n",
      "    'pyomo.core.base.constraint.SimpleConstraint'>) on block unknown with a\n",
      "    new Component (type=<class\n",
      "    'pyomo.core.base.constraint.AbstractSimpleConstraint'>). This is usually\n",
      "    indicative of a modelling error. To avoid this warning, use\n",
      "    block.del_component() and block.add_component().\n",
      "WARNING: Implicitly replacing the Component attribute max_expense (type=<class\n",
      "    'pyomo.core.base.constraint.SimpleConstraint'>) on block unknown with a\n",
      "    new Component (type=<class\n",
      "    'pyomo.core.base.constraint.AbstractSimpleConstraint'>). This is usually\n",
      "    indicative of a modelling error. To avoid this warning, use\n",
      "    block.del_component() and block.add_component().\n"
     ]
    },
    {
     "data": {
      "text/html": [
       "<div>\n",
       "<style scoped>\n",
       "    .dataframe tbody tr th:only-of-type {\n",
       "        vertical-align: middle;\n",
       "    }\n",
       "\n",
       "    .dataframe tbody tr th {\n",
       "        vertical-align: top;\n",
       "    }\n",
       "\n",
       "    .dataframe thead th {\n",
       "        text-align: right;\n",
       "    }\n",
       "</style>\n",
       "<table border=\"1\" class=\"dataframe\">\n",
       "  <thead>\n",
       "    <tr style=\"text-align: right;\">\n",
       "      <th></th>\n",
       "      <th>Plantain Leaves</th>\n",
       "      <th>Frozen Yuca</th>\n",
       "      <th>Pacaya</th>\n",
       "      <th>Frozen Pupusas</th>\n",
       "      <th>Nance</th>\n",
       "      <th>Masa De Tamales</th>\n",
       "      <th>opt profit</th>\n",
       "    </tr>\n",
       "  </thead>\n",
       "  <tbody>\n",
       "    <tr>\n",
       "      <th>max capacity5</th>\n",
       "      <td>55.0</td>\n",
       "      <td>0.0</td>\n",
       "      <td>65.0</td>\n",
       "      <td>60.0</td>\n",
       "      <td>0.0</td>\n",
       "      <td>9.0</td>\n",
       "      <td>4600.0</td>\n",
       "    </tr>\n",
       "    <tr>\n",
       "      <th>max capacity10</th>\n",
       "      <td>60.0</td>\n",
       "      <td>0.0</td>\n",
       "      <td>70.0</td>\n",
       "      <td>65.0</td>\n",
       "      <td>0.0</td>\n",
       "      <td>9.0</td>\n",
       "      <td>5025.0</td>\n",
       "    </tr>\n",
       "    <tr>\n",
       "      <th>max capacity15</th>\n",
       "      <td>65.0</td>\n",
       "      <td>0.0</td>\n",
       "      <td>75.0</td>\n",
       "      <td>70.0</td>\n",
       "      <td>0.0</td>\n",
       "      <td>9.0</td>\n",
       "      <td>5450.0</td>\n",
       "    </tr>\n",
       "    <tr>\n",
       "      <th>max expense150</th>\n",
       "      <td>50.0</td>\n",
       "      <td>0.0</td>\n",
       "      <td>60.0</td>\n",
       "      <td>55.0</td>\n",
       "      <td>0.0</td>\n",
       "      <td>10.0</td>\n",
       "      <td>4200.0</td>\n",
       "    </tr>\n",
       "    <tr>\n",
       "      <th>max expense300</th>\n",
       "      <td>50.0</td>\n",
       "      <td>0.0</td>\n",
       "      <td>60.0</td>\n",
       "      <td>55.0</td>\n",
       "      <td>0.0</td>\n",
       "      <td>12.0</td>\n",
       "      <td>4250.0</td>\n",
       "    </tr>\n",
       "    <tr>\n",
       "      <th>max expense450</th>\n",
       "      <td>50.0</td>\n",
       "      <td>0.0</td>\n",
       "      <td>60.0</td>\n",
       "      <td>55.0</td>\n",
       "      <td>0.0</td>\n",
       "      <td>13.0</td>\n",
       "      <td>4275.0</td>\n",
       "    </tr>\n",
       "    <tr>\n",
       "      <th>max expense600</th>\n",
       "      <td>50.0</td>\n",
       "      <td>0.0</td>\n",
       "      <td>60.0</td>\n",
       "      <td>55.0</td>\n",
       "      <td>0.0</td>\n",
       "      <td>14.0</td>\n",
       "      <td>4300.0</td>\n",
       "    </tr>\n",
       "  </tbody>\n",
       "</table>\n",
       "</div>"
      ],
      "text/plain": [
       "                Plantain Leaves  Frozen Yuca  Pacaya  Frozen Pupusas  Nance  \\\n",
       "max capacity5              55.0          0.0    65.0            60.0    0.0   \n",
       "max capacity10             60.0          0.0    70.0            65.0    0.0   \n",
       "max capacity15             65.0          0.0    75.0            70.0    0.0   \n",
       "max expense150             50.0          0.0    60.0            55.0    0.0   \n",
       "max expense300             50.0          0.0    60.0            55.0    0.0   \n",
       "max expense450             50.0          0.0    60.0            55.0    0.0   \n",
       "max expense600             50.0          0.0    60.0            55.0    0.0   \n",
       "\n",
       "                Masa De Tamales  opt profit  \n",
       "max capacity5               9.0      4600.0  \n",
       "max capacity10              9.0      5025.0  \n",
       "max capacity15              9.0      5450.0  \n",
       "max expense150             10.0      4200.0  \n",
       "max expense300             12.0      4250.0  \n",
       "max expense450             13.0      4275.0  \n",
       "max expense600             14.0      4300.0  "
      ]
     },
     "execution_count": 23,
     "metadata": {},
     "output_type": "execute_result"
    }
   ],
   "source": [
    "#increase max. expense by 150, 300, 450, and 600 dollars. \n",
    "for h in [150, 300, 450, 600]:\n",
    "    max = max_orig.copy() #reset to original\n",
    "    max.loc['Max Expense'] = max.loc['Max Expense'] + h\n",
    "    model = run_model()\n",
    "    #capture DV and optimal profit\n",
    "    DV_solution = pd.DataFrame()\n",
    "    for c in DV_indexes:\n",
    "        DV_solution.loc[f'max expense{h}',c] = model.x[c].value\n",
    "    results = results.append(DV_solution)\n",
    "    results.loc[f'max expense{h}','opt profit'] = model.obj.expr()\n",
    "\n",
    "results"
   ]
  },
  {
   "cell_type": "code",
   "execution_count": 24,
   "metadata": {},
   "outputs": [
    {
     "data": {
      "image/png": "[encoded data removed]",
      "text/plain": [
       "<Figure size 432x288 with 1 Axes>"
      ]
     },
     "metadata": {},
     "output_type": "display_data"
    }
   ],
   "source": [
    "#create a bar plot displaying all the optimal profits for each change in constraints. \n",
    "import matplotlib.pyplot as plt\n",
    "%matplotlib inline\n",
    "plt.style.use('ggplot')\n",
    "\n",
    "x = ['max cap. 5', 'max cap. 10', 'max cap. 15', 'max exp. 150', 'max exp. 300', 'max exp. 450', 'max exp. 600']\n",
    "\n",
    "x_pos = [i for i, _ in enumerate(x)]\n",
    "plt.bar(x_pos, results['opt profit'], color='green')\n",
    "plt.xlabel(\"Changed Values\")\n",
    "plt.ylabel(\"Profit\")\n",
    "plt.title(\"Optimal Profit for Various Values\")\n",
    "\n",
    "plt.xticks(x_pos, x)\n",
    "plt.xticks(rotation = 90)\n",
    "\n",
    "plt.show()"
   ]
  },
  {
   "cell_type": "markdown",
   "metadata": {},
   "source": [
    "# 6. Conclusions<a id=6></a>"
   ]
  },
  {
   "cell_type": "markdown",
   "metadata": {},
   "source": [
    "## 6.1 Tactical Information<a id=6.1></a>"
   ]
  },
  {
   "cell_type": "markdown",
   "metadata": {},
   "source": [
    "All the solutions do not include Yuca or Nance, meaning that these products are not ideal overall. Perhaps finding a new (cheaper) supplier and a less expensive shipping method could change the optimal decisions and include these products in the optimal solution for the future. In addition, finding substitutions for these products could prove beneficial since right now it does not make sense financially to keep them.  The plantain leaves are a more vital product to the product mix and should be prioritized as they are a large portion of the decision variables. Overall, the model suggests stocking up on Plantain Leaves, Pacaya, Frozen Pupusas, and Masa De Tamales.\n"
   ]
  },
  {
   "cell_type": "markdown",
   "metadata": {},
   "source": [
    "## 6.2 Strategic Information<a id=6.2></a>"
   ]
  },
  {
   "cell_type": "markdown",
   "metadata": {},
   "source": [
    "As mentioned, there are four products that should be prioritized in the store's inventory. However, increasing maximum capacity of products proves beneficial as Plantain Leaves, Yuca, and Frozen Pupusas are increased by increments of 5 which in turn increases profits by about 400 dollars each time. On the other hand, increasing expenses does not help as the three main products mentioned before stay constant. The only product that increases with the expense requirement is Masa De Tamales, but only by small increments. Consequently, profits do not increase as much, therefore not carrying as much benefit. Increasing maximum product capacity would be recommended.\n"
   ]
  },
  {
   "cell_type": "markdown",
   "metadata": {},
   "source": [
    "##### [Back to Top](#Top)"
   ]
  },
  {
   "cell_type": "markdown",
   "metadata": {},
   "source": [
    "# 7. Model Limitations, Future Improvements and Challenges<a id=7></a>"
   ]
  },
  {
   "cell_type": "markdown",
   "metadata": {},
   "source": [
    "##### [Back to Top](#Top)"
   ]
  },
  {
   "cell_type": "markdown",
   "metadata": {},
   "source": [
    "This model is clearly a scaled down representation of the store. The store itself carries numerous products and would need additional inputs for the model to be more beneficial. Perhaps, running separate models for different product categories could prove ideal, but it would be a task with a much larger scope. In addition, this model does not account for product popularity and customer demand of certain products. These variables would need to be incorporated to run a more efficient and accurate model. Adding \"weights\" to each product could be a potential solution for the future.\n"
   ]
  }
 ],
 "metadata": {
  "kernelspec": {
   "display_name": "Python 3",
   "language": "python",
   "name": "python3"
  },
  "language_info": {
   "codemirror_mode": {
    "name": "ipython",
    "version": 3
   },
   "file_extension": ".py",
   "mimetype": "text/x-python",
   "name": "python",
   "nbconvert_exporter": "python",
   "pygments_lexer": "ipython3",
   "version": "3.8.5"
  }
 },
 "nbformat": 4,
 "nbformat_minor": 4
}
